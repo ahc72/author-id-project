{
 "cells": [
  {
   "cell_type": "code",
   "execution_count": 137,
   "metadata": {},
   "outputs": [
    {
     "data": {
      "text/plain": [
       "'\\nIF RECOMPILING: DELETE author_tokens.txt\\n'"
      ]
     },
     "execution_count": 137,
     "metadata": {},
     "output_type": "execute_result"
    }
   ],
   "source": [
    "'''\n",
    "IF RECOMPILING: DELETE author_tokens.txt\n",
    "''' "
   ]
  },
  {
   "cell_type": "code",
   "execution_count": 118,
   "metadata": {},
   "outputs": [],
   "source": [
    "import glob\n",
    "import pandas as pd\n",
    "import nltk\n",
    "from nltk import word_tokenize\n",
    "import string\n",
    "import json\n",
    "import re\n",
    "import os"
   ]
  },
  {
   "cell_type": "code",
   "execution_count": 119,
   "metadata": {},
   "outputs": [],
   "source": [
    "from nltk.tag import StanfordNERTagger\n",
    "\n",
    "#Check that paths are set properly for local host\n",
    "jar = './stanford-ner.jar'\n",
    "model = './english.all.3class.distsim.crf.ser.gz'\n",
    "\n",
    "ner_tagger = StanfordNERTagger(model, jar, encoding='utf8')"
   ]
  },
  {
   "cell_type": "code",
   "execution_count": 120,
   "metadata": {},
   "outputs": [],
   "source": [
    "#Get file names for all texts\n",
    "txt_files = glob.glob(\"*.txt\")"
   ]
  },
  {
   "cell_type": "code",
   "execution_count": 121,
   "metadata": {},
   "outputs": [],
   "source": [
    "'''\n",
    "Function \"load\" takes a .txt file as the parameter. It reads the .txt file, removes new line\n",
    "indicators (\\n), and returns the file as a string.\n",
    "'''\n",
    "def load(text):\n",
    "    with open(text, encoding=\"ISO-8859-1\") as f:\n",
    "        my_text = f.read()\n",
    "        lines = my_text.replace('\\n',' ')\n",
    "        return lines"
   ]
  },
  {
   "cell_type": "code",
   "execution_count": 122,
   "metadata": {},
   "outputs": [],
   "source": [
    "#Create list of unique authors (142 total)\n",
    "author_names = []\n",
    "for i in range(len(txt_files)):\n",
    "    string = txt_files[i]\n",
    "    author_names.append(string[:string.index(\"_\")])"
   ]
  },
  {
   "cell_type": "code",
   "execution_count": 123,
   "metadata": {},
   "outputs": [],
   "source": [
    "#Load all txt files (3,036 total) in list \n",
    "work_loaded = []\n",
    "for work in txt_files:\n",
    "    work_loaded.append(load(work))"
   ]
  },
  {
   "cell_type": "code",
   "execution_count": 124,
   "metadata": {},
   "outputs": [],
   "source": [
    "#Replace digits with '0'\n",
    "digits = []\n",
    "for word in work_loaded:\n",
    "    temp_string = \"\".join(word)\n",
    "    replaced_string = re.sub('\\d', '0', temp_string)\n",
    "    digits.append(replaced_string)"
   ]
  },
  {
   "cell_type": "code",
   "execution_count": 125,
   "metadata": {},
   "outputs": [],
   "source": [
    "#Tokenize text\n",
    "work_tokenized = []\n",
    "for word in digits:\n",
    "    work_tokenized.append(word_tokenize(word))"
   ]
  },
  {
   "cell_type": "code",
   "execution_count": 127,
   "metadata": {},
   "outputs": [],
   "source": [
    "#Replace tokens tagged as PERSON, ORGANIZATION, or LOCATION with '#'\n",
    "final_tokens = []\n",
    "for i in range((len(work_tokenized))):\n",
    "            tag_tokens = ner_tagger.tag(work_tokenized[i])\n",
    "            tag_df = pd.DataFrame(tag_tokens, columns=['token', 'label'])\n",
    "            tag_df.loc[tag_df.label == \"PERSON\", 'token'] = \"#\"\n",
    "            tag_df.loc[tag_df.label == \"ORGANIZATION\", 'token'] = \"#\"\n",
    "            tag_df.loc[tag_df.label == \"LOCATION\", 'token'] = \"#\"\n",
    "            new_tokens = list(tag_df['token'])\n",
    "            final_tokens.append(new_tokens)"
   ]
  },
  {
   "cell_type": "code",
   "execution_count": 131,
   "metadata": {},
   "outputs": [],
   "source": [
    "#Create dictionary for authors with their corresponding tokens\n",
    "works = {'author': author_names,\n",
    "         'work': final_tokens}\n",
    "author_works_df = pd.DataFrame.from_dict(works)\n",
    "author_works_dict = {x: y[\"work\"].tolist() for x,y in author_works_df.groupby(\"author\")}"
   ]
  },
  {
   "cell_type": "code",
   "execution_count": 138,
   "metadata": {},
   "outputs": [],
   "source": [
    "#Write author/tokens dictionary to .txt file\n",
    "with open('authors_tokens.txt', 'w') as file:\n",
    "     file.write(json.dumps(author_works_dict))"
   ]
  },
  {
   "cell_type": "code",
   "execution_count": null,
   "metadata": {},
   "outputs": [],
   "source": []
  },
  {
   "cell_type": "code",
   "execution_count": null,
   "metadata": {},
   "outputs": [],
   "source": [
    "'''\n",
    "for key, value in author_works_dict.items():\n",
    "    temp_string = str(value)\n",
    "    replaced_string = re.sub('\\d', '0', temp_string)\n",
    "    author_works_dict[key]= replaced_string\n",
    "'''"
   ]
  },
  {
   "cell_type": "code",
   "execution_count": null,
   "metadata": {},
   "outputs": [],
   "source": []
  }
 ],
 "metadata": {
  "kernelspec": {
   "display_name": "Python 3",
   "language": "python",
   "name": "python3"
  },
  "language_info": {
   "codemirror_mode": {
    "name": "ipython",
    "version": 3
   },
   "file_extension": ".py",
   "mimetype": "text/x-python",
   "name": "python",
   "nbconvert_exporter": "python",
   "pygments_lexer": "ipython3",
   "version": "3.5.6"
  }
 },
 "nbformat": 4,
 "nbformat_minor": 2
}
