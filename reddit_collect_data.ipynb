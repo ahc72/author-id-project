{
 "cells": [
  {
   "cell_type": "markdown",
   "metadata": {},
   "source": [
    "### Collect Reddit Data - ANLY 590 Project\n",
    "#### November 13, 2018"
   ]
  },
  {
   "cell_type": "markdown",
   "metadata": {},
   "source": [
    "***"
   ]
  },
  {
   "cell_type": "markdown",
   "metadata": {},
   "source": [
    "#### Prep"
   ]
  },
  {
   "cell_type": "code",
   "execution_count": 1,
   "metadata": {
    "collapsed": true
   },
   "outputs": [],
   "source": [
    "# set working directory\n",
    "import os\n",
    "import sys\n",
    "path = '/Users/kgedney/Documents/georgetown/anly590/author-id-project'\n",
    "os.chdir(path)"
   ]
  },
  {
   "cell_type": "code",
   "execution_count": 2,
   "metadata": {
    "collapsed": true
   },
   "outputs": [],
   "source": [
    "# add API info\n",
    "client_id     = 'my client id'\n",
    "client_secret = 'my client secret'\n",
    "user_agent    = 'deeplearning'\n",
    "username      = 'my user name'\n",
    "password      = ''"
   ]
  },
  {
   "cell_type": "code",
   "execution_count": 3,
   "metadata": {
    "collapsed": true
   },
   "outputs": [],
   "source": [
    "# import packages\n",
    "import praw\n",
    "import pandas as pd\n",
    "import datetime as dt\n",
    "from tqdm import tqdm"
   ]
  },
  {
   "cell_type": "code",
   "execution_count": 4,
   "metadata": {
    "collapsed": true
   },
   "outputs": [],
   "source": [
    "# set reddit credentials\n",
    "reddit = praw.Reddit(client_id     = client_id, \\\n",
    "                     client_secret = client_secret, \\\n",
    "                     user_agent    = user_agent, \\\n",
    "                     username      = username, \\\n",
    "                     password      = password)"
   ]
  },
  {
   "cell_type": "markdown",
   "metadata": {},
   "source": [
    "***"
   ]
  },
  {
   "cell_type": "markdown",
   "metadata": {},
   "source": [
    "####  Scrape Comments"
   ]
  },
  {
   "cell_type": "code",
   "execution_count": 13,
   "metadata": {},
   "outputs": [
    {
     "name": "stdout",
     "output_type": "stream",
     "text": [
      "421\n"
     ]
    }
   ],
   "source": [
    "# import usernames\n",
    "midterms = pd.read_csv('Midterms.csv')\n",
    "midterms.head()\n",
    "midterms = midterms.iloc[1:]\n",
    "print(len(midterms['author'].unique()))"
   ]
  },
  {
   "cell_type": "code",
   "execution_count": 6,
   "metadata": {
    "collapsed": true
   },
   "outputs": [],
   "source": [
    "# intialize dictionary\n",
    "usernames     = midterms['author'].unique()\n",
    "comments_dict = {'author': [], \n",
    "                 'body': []}"
   ]
  },
  {
   "cell_type": "code",
   "execution_count": 7,
   "metadata": {},
   "outputs": [
    {
     "name": "stderr",
     "output_type": "stream",
     "text": [
      " 16%|█▋        | 69/422 [14:49<1:05:55, 11.20s/it]error at nan\n",
      "100%|██████████| 422/422 [1:28:20<00:00, 12.18s/it]\n"
     ]
    }
   ],
   "source": [
    "# run scrape\n",
    "for username in tqdm(usernames):\n",
    "    try:\n",
    "        for comment in reddit.redditor(username).comments.new(limit=None):\n",
    "            comments_dict['author'].append(username)\n",
    "            comments_dict['body'].append(comment.body.split('\\n', 1))\n",
    "    except KeyboardInterrupt:\n",
    "        raise\n",
    "    except:\n",
    "        print('error at %s' % username, file=sys.stderr) "
   ]
  },
  {
   "cell_type": "code",
   "execution_count": 23,
   "metadata": {},
   "outputs": [
    {
     "name": "stdout",
     "output_type": "stream",
     "text": [
      "(353091, 2)\n"
     ]
    },
    {
     "data": {
      "text/html": [
       "<div>\n",
       "<style scoped>\n",
       "    .dataframe tbody tr th:only-of-type {\n",
       "        vertical-align: middle;\n",
       "    }\n",
       "\n",
       "    .dataframe tbody tr th {\n",
       "        vertical-align: top;\n",
       "    }\n",
       "\n",
       "    .dataframe thead th {\n",
       "        text-align: right;\n",
       "    }\n",
       "</style>\n",
       "<table border=\"1\" class=\"dataframe\">\n",
       "  <thead>\n",
       "    <tr style=\"text-align: right;\">\n",
       "      <th></th>\n",
       "      <th>author</th>\n",
       "      <th>body</th>\n",
       "    </tr>\n",
       "  </thead>\n",
       "  <tbody>\n",
       "    <tr>\n",
       "      <th>0</th>\n",
       "      <td>AutoModerator</td>\n",
       "      <td>[Your submission has been removed from /r/sams...</td>\n",
       "    </tr>\n",
       "    <tr>\n",
       "      <th>1</th>\n",
       "      <td>AutoModerator</td>\n",
       "      <td>[, As a reminder, this subreddit [is for civil...</td>\n",
       "    </tr>\n",
       "    <tr>\n",
       "      <th>2</th>\n",
       "      <td>AutoModerator</td>\n",
       "      <td>[Your post have been removed as it appears tha...</td>\n",
       "    </tr>\n",
       "    <tr>\n",
       "      <th>3</th>\n",
       "      <td>AutoModerator</td>\n",
       "      <td>[Your post was removed because it contained a ...</td>\n",
       "    </tr>\n",
       "    <tr>\n",
       "      <th>4</th>\n",
       "      <td>AutoModerator</td>\n",
       "      <td>[Your submission has been removed. Stories in ...</td>\n",
       "    </tr>\n",
       "  </tbody>\n",
       "</table>\n",
       "</div>"
      ],
      "text/plain": [
       "          author                                               body\n",
       "0  AutoModerator  [Your submission has been removed from /r/sams...\n",
       "1  AutoModerator  [, As a reminder, this subreddit [is for civil...\n",
       "2  AutoModerator  [Your post have been removed as it appears tha...\n",
       "3  AutoModerator  [Your post was removed because it contained a ...\n",
       "4  AutoModerator  [Your submission has been removed. Stories in ..."
      ]
     },
     "execution_count": 23,
     "metadata": {},
     "output_type": "execute_result"
    }
   ],
   "source": [
    "# create df\n",
    "df = pd.DataFrame(comments_dict)\n",
    "df.head()"
   ]
  },
  {
   "cell_type": "code",
   "execution_count": 37,
   "metadata": {},
   "outputs": [
    {
     "name": "stdout",
     "output_type": "stream",
     "text": [
      "(352096, 2)\n"
     ]
    },
    {
     "data": {
      "text/html": [
       "<div>\n",
       "<style scoped>\n",
       "    .dataframe tbody tr th:only-of-type {\n",
       "        vertical-align: middle;\n",
       "    }\n",
       "\n",
       "    .dataframe tbody tr th {\n",
       "        vertical-align: top;\n",
       "    }\n",
       "\n",
       "    .dataframe thead th {\n",
       "        text-align: right;\n",
       "    }\n",
       "</style>\n",
       "<table border=\"1\" class=\"dataframe\">\n",
       "  <thead>\n",
       "    <tr style=\"text-align: right;\">\n",
       "      <th></th>\n",
       "      <th>author</th>\n",
       "      <th>body</th>\n",
       "    </tr>\n",
       "  </thead>\n",
       "  <tbody>\n",
       "    <tr>\n",
       "      <th>0</th>\n",
       "      <td>BlakeIsBlake</td>\n",
       "      <td>[I just went through this process myself. What...</td>\n",
       "    </tr>\n",
       "    <tr>\n",
       "      <th>1</th>\n",
       "      <td>BlakeIsBlake</td>\n",
       "      <td>[Dude. No.]</td>\n",
       "    </tr>\n",
       "    <tr>\n",
       "      <th>2</th>\n",
       "      <td>BlakeIsBlake</td>\n",
       "      <td>[I was still skeptical even after reading your...</td>\n",
       "    </tr>\n",
       "    <tr>\n",
       "      <th>3</th>\n",
       "      <td>BlakeIsBlake</td>\n",
       "      <td>[&gt; NYU School of Continuing Education, \\nYes. ...</td>\n",
       "    </tr>\n",
       "    <tr>\n",
       "      <th>4</th>\n",
       "      <td>BlakeIsBlake</td>\n",
       "      <td>[Still selling? Interested]</td>\n",
       "    </tr>\n",
       "  </tbody>\n",
       "</table>\n",
       "</div>"
      ],
      "text/plain": [
       "         author                                               body\n",
       "0  BlakeIsBlake  [I just went through this process myself. What...\n",
       "1  BlakeIsBlake                                        [Dude. No.]\n",
       "2  BlakeIsBlake  [I was still skeptical even after reading your...\n",
       "3  BlakeIsBlake  [> NYU School of Continuing Education, \\nYes. ...\n",
       "4  BlakeIsBlake                        [Still selling? Interested]"
      ]
     },
     "execution_count": 37,
     "metadata": {},
     "output_type": "execute_result"
    }
   ],
   "source": [
    "# remove AutoModerator posts\n",
    "df = df[df['author'] != 'AutoModerator'].reset_index(drop=True)\n",
    "print(df.shape)\n",
    "df.head()"
   ]
  },
  {
   "cell_type": "code",
   "execution_count": 25,
   "metadata": {
    "collapsed": true
   },
   "outputs": [],
   "source": [
    "# save as csv\n",
    "df.to_csv('raw_data.csv')"
   ]
  },
  {
   "cell_type": "markdown",
   "metadata": {},
   "source": [
    "***"
   ]
  },
  {
   "cell_type": "markdown",
   "metadata": {},
   "source": [
    "#### Exploratory Analysis"
   ]
  },
  {
   "cell_type": "code",
   "execution_count": 134,
   "metadata": {
    "collapsed": true
   },
   "outputs": [],
   "source": [
    "# read in data\n",
    "df = pd.read_csv('raw_data.csv')"
   ]
  },
  {
   "cell_type": "code",
   "execution_count": 9,
   "metadata": {},
   "outputs": [
    {
     "data": {
      "text/plain": [
       "Unnamed: 0    838.32381\n",
       "body          838.32381\n",
       "dtype: float64"
      ]
     },
     "execution_count": 9,
     "metadata": {},
     "output_type": "execute_result"
    }
   ],
   "source": [
    "# average of 838 posts per author\n",
    "df.groupby('author').count().mean()"
   ]
  },
  {
   "cell_type": "code",
   "execution_count": 10,
   "metadata": {},
   "outputs": [
    {
     "data": {
      "text/plain": [
       "420"
      ]
     },
     "execution_count": 10,
     "metadata": {},
     "output_type": "execute_result"
    }
   ],
   "source": [
    "# 420 unique authors\n",
    "len(set(df['author']))"
   ]
  },
  {
   "cell_type": "code",
   "execution_count": 195,
   "metadata": {},
   "outputs": [],
   "source": [
    "import string\n",
    "exclude = set(string.punctuation)"
   ]
  },
  {
   "cell_type": "code",
   "execution_count": 179,
   "metadata": {},
   "outputs": [],
   "source": [
    "# combine back lists\n",
    "df['whole_body'] = df.body.apply(lambda x: ''.join(x))\n",
    "#df['whole_body'] = df.body.apply(lambda x: ''.join(ch for ch in x if ch not in remove))"
   ]
  },
  {
   "cell_type": "code",
   "execution_count": 158,
   "metadata": {
    "collapsed": true
   },
   "outputs": [],
   "source": [
    "# create new columns for word count and character count\n",
    "df['num_words'] = df.whole_body.apply(lambda x: len(x.split(' ')))\n",
    "df['num_chars'] = df.whole_body.apply(lambda x: len(x))"
   ]
  },
  {
   "cell_type": "code",
   "execution_count": 139,
   "metadata": {},
   "outputs": [
    {
     "data": {
      "text/plain": [
       "43.83390041352359"
      ]
     },
     "execution_count": 139,
     "metadata": {},
     "output_type": "execute_result"
    }
   ],
   "source": [
    "# average words (just on a basic tokenization)\n",
    "df['num_words'].mean()"
   ]
  },
  {
   "cell_type": "code",
   "execution_count": 140,
   "metadata": {},
   "outputs": [
    {
     "data": {
      "text/plain": [
       "257.90508554485143"
      ]
     },
     "execution_count": 140,
     "metadata": {},
     "output_type": "execute_result"
    }
   ],
   "source": [
    "# average characters\n",
    "df['num_chars'].mean()"
   ]
  },
  {
   "cell_type": "code",
   "execution_count": 141,
   "metadata": {},
   "outputs": [
    {
     "data": {
      "text/plain": [
       "10105"
      ]
     },
     "execution_count": 141,
     "metadata": {},
     "output_type": "execute_result"
    }
   ],
   "source": [
    "df['num_chars'].max()"
   ]
  },
  {
   "cell_type": "code",
   "execution_count": 142,
   "metadata": {},
   "outputs": [
    {
     "data": {
      "text/plain": [
       "2048"
      ]
     },
     "execution_count": 142,
     "metadata": {},
     "output_type": "execute_result"
    }
   ],
   "source": [
    "df['num_words'].max()"
   ]
  },
  {
   "cell_type": "markdown",
   "metadata": {},
   "source": [
    "Check to see if there are any emojis in the comments. Adding a count 1 for every comment that has an emoji, and 0 if there are no emojis. The sum of the list which is equal to zero, we conclude that there are no emojis in the comments."
   ]
  },
  {
   "cell_type": "code",
   "execution_count": 143,
   "metadata": {},
   "outputs": [
    {
     "data": {
      "text/plain": [
       "0"
      ]
     },
     "execution_count": 143,
     "metadata": {},
     "output_type": "execute_result"
    }
   ],
   "source": [
    "import emoji\n",
    "check_emojis = []\n",
    "for character in df['body']:\n",
    "    if character in emoji.UNICODE_EMOJI:\n",
    "        check_emojis.append(1)\n",
    "    else:\n",
    "        check_emojis.append(0)\n",
    "sum(check_emojis)"
   ]
  },
  {
   "cell_type": "code",
   "execution_count": 144,
   "metadata": {},
   "outputs": [
    {
     "data": {
      "text/html": [
       "<div>\n",
       "<style>\n",
       "    .dataframe thead tr:only-child th {\n",
       "        text-align: right;\n",
       "    }\n",
       "\n",
       "    .dataframe thead th {\n",
       "        text-align: left;\n",
       "    }\n",
       "\n",
       "    .dataframe tbody tr th {\n",
       "        vertical-align: top;\n",
       "    }\n",
       "</style>\n",
       "<table border=\"1\" class=\"dataframe\">\n",
       "  <thead>\n",
       "    <tr style=\"text-align: right;\">\n",
       "      <th></th>\n",
       "      <th>Unnamed: 0</th>\n",
       "      <th>num_words</th>\n",
       "      <th>num_chars</th>\n",
       "    </tr>\n",
       "  </thead>\n",
       "  <tbody>\n",
       "    <tr>\n",
       "      <th>count</th>\n",
       "      <td>352096.000000</td>\n",
       "      <td>352096.000000</td>\n",
       "      <td>352096.000000</td>\n",
       "    </tr>\n",
       "    <tr>\n",
       "      <th>mean</th>\n",
       "      <td>176047.500000</td>\n",
       "      <td>43.833900</td>\n",
       "      <td>257.905086</td>\n",
       "    </tr>\n",
       "    <tr>\n",
       "      <th>std</th>\n",
       "      <td>101641.504528</td>\n",
       "      <td>65.563135</td>\n",
       "      <td>397.985741</td>\n",
       "    </tr>\n",
       "    <tr>\n",
       "      <th>min</th>\n",
       "      <td>0.000000</td>\n",
       "      <td>1.000000</td>\n",
       "      <td>4.000000</td>\n",
       "    </tr>\n",
       "    <tr>\n",
       "      <th>25%</th>\n",
       "      <td>88023.750000</td>\n",
       "      <td>11.000000</td>\n",
       "      <td>66.000000</td>\n",
       "    </tr>\n",
       "    <tr>\n",
       "      <th>50%</th>\n",
       "      <td>176047.500000</td>\n",
       "      <td>24.000000</td>\n",
       "      <td>139.000000</td>\n",
       "    </tr>\n",
       "    <tr>\n",
       "      <th>75%</th>\n",
       "      <td>264071.250000</td>\n",
       "      <td>51.000000</td>\n",
       "      <td>294.000000</td>\n",
       "    </tr>\n",
       "    <tr>\n",
       "      <th>max</th>\n",
       "      <td>352095.000000</td>\n",
       "      <td>2048.000000</td>\n",
       "      <td>10105.000000</td>\n",
       "    </tr>\n",
       "  </tbody>\n",
       "</table>\n",
       "</div>"
      ],
      "text/plain": [
       "          Unnamed: 0      num_words      num_chars\n",
       "count  352096.000000  352096.000000  352096.000000\n",
       "mean   176047.500000      43.833900     257.905086\n",
       "std    101641.504528      65.563135     397.985741\n",
       "min         0.000000       1.000000       4.000000\n",
       "25%     88023.750000      11.000000      66.000000\n",
       "50%    176047.500000      24.000000     139.000000\n",
       "75%    264071.250000      51.000000     294.000000\n",
       "max    352095.000000    2048.000000   10105.000000"
      ]
     },
     "execution_count": 144,
     "metadata": {},
     "output_type": "execute_result"
    }
   ],
   "source": [
    "df.describe()"
   ]
  },
  {
   "cell_type": "code",
   "execution_count": 145,
   "metadata": {},
   "outputs": [
    {
     "data": {
      "text/html": [
       "<div>\n",
       "<style>\n",
       "    .dataframe thead tr:only-child th {\n",
       "        text-align: right;\n",
       "    }\n",
       "\n",
       "    .dataframe thead th {\n",
       "        text-align: left;\n",
       "    }\n",
       "\n",
       "    .dataframe tbody tr th {\n",
       "        vertical-align: top;\n",
       "    }\n",
       "</style>\n",
       "<table border=\"1\" class=\"dataframe\">\n",
       "  <thead>\n",
       "    <tr style=\"text-align: right;\">\n",
       "      <th></th>\n",
       "      <th>Unnamed: 0</th>\n",
       "      <th>author</th>\n",
       "      <th>body</th>\n",
       "      <th>whole_body</th>\n",
       "      <th>num_words</th>\n",
       "      <th>num_chars</th>\n",
       "    </tr>\n",
       "  </thead>\n",
       "  <tbody>\n",
       "    <tr>\n",
       "      <th>61955</th>\n",
       "      <td>61955</td>\n",
       "      <td>Bashfluff</td>\n",
       "      <td>['Ajit Pai Ajit Pai Ajit Pai Ajit Pai Ajit Pai...</td>\n",
       "      <td>['Ajit Pai Ajit Pai Ajit Pai Ajit Pai Ajit Pai...</td>\n",
       "      <td>2048</td>\n",
       "      <td>9219</td>\n",
       "    </tr>\n",
       "  </tbody>\n",
       "</table>\n",
       "</div>"
      ],
      "text/plain": [
       "       Unnamed: 0     author  \\\n",
       "61955       61955  Bashfluff   \n",
       "\n",
       "                                                    body  \\\n",
       "61955  ['Ajit Pai Ajit Pai Ajit Pai Ajit Pai Ajit Pai...   \n",
       "\n",
       "                                              whole_body  num_words  num_chars  \n",
       "61955  ['Ajit Pai Ajit Pai Ajit Pai Ajit Pai Ajit Pai...       2048       9219  "
      ]
     },
     "execution_count": 145,
     "metadata": {},
     "output_type": "execute_result"
    }
   ],
   "source": [
    "df[df['num_words'] == df['num_words'].max()]"
   ]
  },
  {
   "cell_type": "code",
   "execution_count": 146,
   "metadata": {},
   "outputs": [
    {
     "data": {
      "text/html": [
       "<div>\n",
       "<style>\n",
       "    .dataframe thead tr:only-child th {\n",
       "        text-align: right;\n",
       "    }\n",
       "\n",
       "    .dataframe thead th {\n",
       "        text-align: left;\n",
       "    }\n",
       "\n",
       "    .dataframe tbody tr th {\n",
       "        vertical-align: top;\n",
       "    }\n",
       "</style>\n",
       "<table border=\"1\" class=\"dataframe\">\n",
       "  <thead>\n",
       "    <tr style=\"text-align: right;\">\n",
       "      <th></th>\n",
       "      <th>Unnamed: 0</th>\n",
       "      <th>author</th>\n",
       "      <th>body</th>\n",
       "      <th>whole_body</th>\n",
       "      <th>num_words</th>\n",
       "      <th>num_chars</th>\n",
       "    </tr>\n",
       "  </thead>\n",
       "  <tbody>\n",
       "    <tr>\n",
       "      <th>0</th>\n",
       "      <td>0</td>\n",
       "      <td>BlakeIsBlake</td>\n",
       "      <td>['I just went through this process myself. Wha...</td>\n",
       "      <td>['I just went through this process myself. Wha...</td>\n",
       "      <td>79</td>\n",
       "      <td>508</td>\n",
       "    </tr>\n",
       "  </tbody>\n",
       "</table>\n",
       "</div>"
      ],
      "text/plain": [
       "   Unnamed: 0        author  \\\n",
       "0           0  BlakeIsBlake   \n",
       "\n",
       "                                                body  \\\n",
       "0  ['I just went through this process myself. Wha...   \n",
       "\n",
       "                                          whole_body  num_words  num_chars  \n",
       "0  ['I just went through this process myself. Wha...         79        508  "
      ]
     },
     "execution_count": 146,
     "metadata": {},
     "output_type": "execute_result"
    }
   ],
   "source": [
    "df[:1]"
   ]
  },
  {
   "cell_type": "code",
   "execution_count": 173,
   "metadata": {},
   "outputs": [
    {
     "data": {
      "text/plain": [
       "'\\'1. What is your credit score? *765*\\', \\'2. What cards do you currently have or have you had in the past (including closed cards), along with dates of when you were approved for the cards? Please include month and year for any card approved in the last 3 years.nn* *Discover Card (Categories) 914*n* *Citi DoubleCash 116*n* *Chase Freedom 716*n* *Uber Visa 1117*n* *Chase Sapphire Reserve 518*n* *Amazon Prime Rewards 818*n* *World of Hyatt 1018*nnn3. How much natural spend can you put on a new card(s) in 3 months? *$6k to $9k*nn4. Are you willing to MS, and if so, how much in 3 months? See this page for a primer on MS. Plastiq (for rentmortgageloan payments) and bank account funding are often good options for beginners.n*I\\'ve never tried it, but would be open to it.*nn5. Are you open to applying for business cards? If not, why? See this post and this wiki question to learn more.n*Not really. Don\\'t have a business, not down to attempt to fabricate one*nn6. How many new cards are you interested in getting? Are you interested in getting into churning regularly (if you aren\\'t already)? Or are you just looking to get a new card(s) for now but not get into churning long-term?n*As many as I can get without arousing suspicion -- looking to get into churning*nn7. Are you targeting points, Companion Passes, hotel or airline statuses, First Class, Biz, Economy seating(s) or cash back?n*Whatever has the most value -- points (towards hotel or travel) and cash back. Companion Pass would be cool but I\\'m not sold on its value yet. I like to fly coach.*nn8. What pointmiles do you currently have?n*5k UR, 1.3k SkyMiles, various amounts of points on Amazon, Uber, etc... working towards MSR on World of Hyatt right now*nn9. What is the airport you\\'re flying out of?n*NYC, so EWRJFKLGA*nn10. Where would you like to go? (The More specific you are, the better someone can recommend the right card. Tokyo is great, \"International travel\" is way too vague)n*Never been out of the continent. Anywhere in western Europe is great for a first shot... Tokyo is a goal in the distant future.*\\''"
      ]
     },
     "execution_count": 173,
     "metadata": {},
     "output_type": "execute_result"
    }
   ],
   "source": [
    "df['whole_body'][18]"
   ]
  },
  {
   "cell_type": "markdown",
   "metadata": {},
   "source": [
    "***"
   ]
  },
  {
   "cell_type": "markdown",
   "metadata": {},
   "source": [
    "### Old Stuff"
   ]
  },
  {
   "cell_type": "code",
   "execution_count": null,
   "metadata": {
    "collapsed": true
   },
   "outputs": [],
   "source": [
    "subreddit = (reddit.subreddit('technology'))"
   ]
  },
  {
   "cell_type": "code",
   "execution_count": null,
   "metadata": {
    "collapsed": true
   },
   "outputs": [],
   "source": [
    "for submission in subreddit(limit=None):\n",
    "    print(submission.title, submission.id)"
   ]
  },
  {
   "cell_type": "code",
   "execution_count": 74,
   "metadata": {},
   "outputs": [
    {
     "name": "stderr",
     "output_type": "stream",
     "text": [
      "966it [00:12, 77.59it/s]\n"
     ]
    }
   ],
   "source": [
    "# print comments\n",
    "comments_dictionary = {}\n",
    "i = 0\n",
    "\n",
    "for comment in tqdm((reddit.subreddit('technology').comments(limit=None))):\n",
    "    comments_dictionary[i] = (comment.body, comment.author, comment.author_fullname)\n",
    "    i = i + 1\n",
    "    #print(comment.body, comment.author, comment.author_fullname)"
   ]
  },
  {
   "cell_type": "code",
   "execution_count": 73,
   "metadata": {},
   "outputs": [
    {
     "data": {
      "text/plain": [
       "967"
      ]
     },
     "execution_count": 73,
     "metadata": {},
     "output_type": "execute_result"
    }
   ],
   "source": [
    "len(comments_dictionary)"
   ]
  },
  {
   "cell_type": "code",
   "execution_count": 66,
   "metadata": {
    "collapsed": true
   },
   "outputs": [],
   "source": [
    "# vars(comment)"
   ]
  }
 ],
 "metadata": {
  "kernelspec": {
   "display_name": "Python 3",
   "language": "python",
   "name": "python3"
  },
  "language_info": {
   "codemirror_mode": {
    "name": "ipython",
    "version": 3
   },
   "file_extension": ".py",
   "mimetype": "text/x-python",
   "name": "python",
   "nbconvert_exporter": "python",
   "pygments_lexer": "ipython3",
   "version": "3.6.1"
  }
 },
 "nbformat": 4,
 "nbformat_minor": 2
}
